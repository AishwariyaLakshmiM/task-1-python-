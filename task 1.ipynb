{
 "cells": [
  {
   "cell_type": "code",
   "execution_count": 12,
   "id": "6c14f3ad-a147-4025-a114-ee1bcf29f3ac",
   "metadata": {},
   "outputs": [
    {
     "name": "stdout",
     "output_type": "stream",
     "text": [
      "Aishu\n",
      "3\n",
      "True\n"
     ]
    }
   ],
   "source": [
    "#variables\n",
    "name = \"Aishu\"\n",
    "rollno = 3\n",
    "is_student = True\n",
    "print(name)\n",
    "print(rollno)\n",
    "print(is_student)"
   ]
  },
  {
   "cell_type": "code",
   "execution_count": 13,
   "id": "3488a835-6ff8-466e-b0cb-f898defe4218",
   "metadata": {},
   "outputs": [
    {
     "name": "stdout",
     "output_type": "stream",
     "text": [
      "<class 'int'>\n",
      "<class 'float'>\n",
      "<class 'str'>\n",
      "<class 'bool'>\n",
      "<class 'complex'>\n",
      "<class 'list'>\n",
      "<class 'tuple'>\n",
      "<class 'range'>\n",
      "<class 'dict'>\n",
      "<class 'set'>\n",
      "<class 'frozenset'>\n",
      "<class 'bytes'>\n",
      "<class 'bytearray'>\n",
      "<class 'memoryview'>\n",
      "<class 'NoneType'>\n"
     ]
    }
   ],
   "source": [
    "#datatypes\n",
    "num = 10\n",
    "pi=3.14\n",
    "message=\"Hello World\"\n",
    "is_value=True\n",
    "a = 1j\t\t\n",
    "b = [\"a\", \"b\", \"c\"]\t\t\n",
    "c = (\"apple\", \"banana\", \"cherry\")\t\t\n",
    "d = range(5)\t\t\n",
    "e = {\"name\" : \"Aishu\", \"rollno\" : 3}\t\t\n",
    "f = {\"abi\", \"aishu\", \"anita\"}\t\n",
    "g = frozenset({\"apple\", \"banana\", \"cherry\"})\t\t\t\t\n",
    "h = b\"Hello\"\t\t\n",
    "i = bytearray(5)\t\t\n",
    "j = memoryview(bytes(5))\t\t\n",
    "k = None\n",
    "print(type(num))\n",
    "print(type(pi))\n",
    "print(type(message))\n",
    "print(type(is_value))\n",
    "print(type(a))\n",
    "print(type(b))\n",
    "print(type(c))\n",
    "print(type(d))\n",
    "print(type(e))\n",
    "print(type(f))\n",
    "print(type(g))\n",
    "print(type(h))\n",
    "print(type(i))\n",
    "print(type(j))\n",
    "print(type(k))"
   ]
  },
  {
   "cell_type": "code",
   "execution_count": 14,
   "id": "f3ed95a3-6f54-4ef6-8290-8ffc2dbcb521",
   "metadata": {},
   "outputs": [
    {
     "name": "stdout",
     "output_type": "stream",
     "text": [
      "Abi\n",
      "Aishu\n",
      "Anita\n"
     ]
    }
   ],
   "source": [
    "#for loop\n",
    "names = [\"Abi\", \"Aishu\", \"Anita\"]\n",
    "for x in names:\n",
    "  print(x)"
   ]
  },
  {
   "cell_type": "code",
   "execution_count": 15,
   "id": "fe560060-fb47-42bc-9f6c-3ea2e9f0a934",
   "metadata": {},
   "outputs": [
    {
     "name": "stdout",
     "output_type": "stream",
     "text": [
      "1\n",
      "2\n",
      "3\n",
      "4\n",
      "5\n"
     ]
    }
   ],
   "source": [
    "#while loop\n",
    "i = 1\n",
    "while i < 6:\n",
    "  print(i)\n",
    "  i += 1"
   ]
  },
  {
   "cell_type": "code",
   "execution_count": 16,
   "id": "6c1905aa-83bd-4b68-b171-46abd87cd9f6",
   "metadata": {},
   "outputs": [
    {
     "name": "stdout",
     "output_type": "stream",
     "text": [
      "\n",
      "Recursion Example Results\n",
      "1\n",
      "3\n",
      "6\n",
      "10\n",
      "15\n"
     ]
    },
    {
     "data": {
      "text/plain": [
       "15"
      ]
     },
     "execution_count": 16,
     "metadata": {},
     "output_type": "execute_result"
    }
   ],
   "source": [
    "#functions\n",
    "def tri_recursion(k):\n",
    "  if(k > 0):\n",
    "    result = k + tri_recursion(k - 1)\n",
    "    print(result)\n",
    "  else:\n",
    "    result = 0\n",
    "  return result\n",
    "print(\"\\nRecursion Example Results\")\n",
    "tri_recursion(5)"
   ]
  },
  {
   "cell_type": "code",
   "execution_count": 17,
   "id": "ce1ef038-fbe2-444b-80fc-1ffe1a8e2fc3",
   "metadata": {},
   "outputs": [
    {
     "name": "stdin",
     "output_type": "stream",
     "text": [
      "Enter the First Value:  10\n",
      "Enter the Second Value:  5\n"
     ]
    },
    {
     "name": "stdout",
     "output_type": "stream",
     "text": [
      "The Sum of 10 and 5 = 15\n",
      "The Subtraction of 5 from 10 = 5\n",
      "The Multiplication of 10 and 5 = 50\n",
      "The Division of 10 and 5 = 2.0\n",
      "The Modulus of 10 and 5 = 0\n",
      "The Exponent Value of 10 and 5 = 100000\n"
     ]
    }
   ],
   "source": [
    "#arithmetic operators\n",
    "num1 = int(input(\"Enter the First Value: \"))\n",
    "num2 = int(input(\"Enter the Second Value: \"))\n",
    "add = num1 + num2\n",
    "sub = num1 - num2\n",
    "multi = num1 * num2\n",
    "div = num1 / num2\n",
    "mod = num1 % num2\n",
    "expo = num1 ** num2\n",
    "print(f\"The Sum of {num1} and {num2} = {add}\")\n",
    "print(f\"The Subtraction of {num2} from {num1} = {sub}\")\n",
    "print(f\"The Multiplication of {num1} and {num2} = {multi}\")\n",
    "print(f\"The Division of {num1} and {num2} = {div}\")\n",
    "print(f\"The Modulus of {num1} and {num2} = {mod}\")\n",
    "print(f\"The Exponent Value of {num1} and {num2} = {expo}\")"
   ]
  },
  {
   "cell_type": "code",
   "execution_count": 18,
   "id": "d6e4e468-c9af-46e9-a1b3-52f8fd659a08",
   "metadata": {},
   "outputs": [
    {
     "name": "stdout",
     "output_type": "stream",
     "text": [
      "List after updating the second element: [1, 20, 3, 4, 5]\n",
      "List after appending a new element: [1, 20, 3, 4, 5, 6]\n",
      "List after inserting a new element at index 2: [1, 20, 30, 3, 4, 5, 6]\n",
      "List after removing the element with value 4: [1, 20, 30, 3, 5, 6]\n",
      "List after deleting the element at index 3: [1, 20, 30, 5, 6]\n",
      "List after popping the last element: [1, 20, 30, 5]\n",
      "Popped element: 6\n",
      "List after clearing all elements: [1, 20, 30, 5]\n"
     ]
    }
   ],
   "source": [
    "#list\n",
    "my_list = [1, 2, 3, 4, 5]\n",
    "my_list[1] = 20\n",
    "print(\"List after updating the second element:\", my_list)\n",
    "my_list.append(6)\n",
    "print(\"List after appending a new element:\", my_list) \n",
    "my_list.insert(2, 30)\n",
    "print(\"List after inserting a new element at index 2:\", my_list)\n",
    "my_list.remove(4)\n",
    "print(\"List after removing the element with value 4:\", my_list) \n",
    "del my_list[3]\n",
    "print(\"List after deleting the element at index 3:\", my_list)\n",
    "popped_element = my_list.pop() \n",
    "print(\"List after popping the last element:\", my_list) \n",
    "print(\"Popped element:\", popped_element)\n",
    "print(\"List after clearing all elements:\", my_list)"
   ]
  },
  {
   "cell_type": "code",
   "execution_count": 19,
   "id": "3cb553bf-bca8-468c-a246-25794dde6cbf",
   "metadata": {},
   "outputs": [
    {
     "name": "stdout",
     "output_type": "stream",
     "text": [
      "apple\n",
      "banana\n",
      "3\n",
      "(2, 'Hello', 'Python', 2)\n",
      "('abc', 34, True, 40, 'male')\n"
     ]
    }
   ],
   "source": [
    "#tuple\n",
    "fruits = (\"apple\", \"banana\", \"cherry\")\n",
    "print(fruits[0]) \n",
    "print(fruits[1])  \n",
    "print(len(fruits)) \n",
    "mixed_tuple = (2, \"Hello\", \"Python\", 2)\n",
    "print(mixed_tuple) \n",
    "tuple1 = (\"abc\", 34, True, 40, \"male\")\n",
    "print(tuple1) "
   ]
  },
  {
   "cell_type": "code",
   "execution_count": 20,
   "id": "ff0b709c-3f4d-466b-aa56-72f188cff341",
   "metadata": {},
   "outputs": [
    {
     "name": "stdout",
     "output_type": "stream",
     "text": [
      "MLB Teams: {'Colorado': 'Rockies', 'Boston': 'Red Sox', 'Minnesota': 'Twins', 'Milwaukee': 'Brewers', 'Seattle': 'Mariners'}\n",
      "Team in Boston: Red Sox\n",
      "Updated MLB Teams: {'Colorado': 'Rockies', 'Boston': 'Red Sox', 'Minnesota': 'Twins', 'Milwaukee': 'Brewers', 'Seattle': 'Mariners', 'New York': 'Yankees'}\n",
      "Updated MLB Teams (after removal): {'Colorado': 'Rockies', 'Boston': 'Red Sox', 'Minnesota': 'Twins', 'Seattle': 'Mariners', 'New York': 'Yankees'}\n"
     ]
    }
   ],
   "source": [
    "#dictionary\n",
    "MLB_team = {\n",
    "    'Colorado': 'Rockies',\n",
    "    'Boston': 'Red Sox',\n",
    "    'Minnesota': 'Twins',\n",
    "    'Milwaukee': 'Brewers',\n",
    "    'Seattle': 'Mariners'\n",
    "}\n",
    "print(f\"MLB Teams: {MLB_team}\")\n",
    "print(f\"Team in Boston: {MLB_team.get('Boston', 'Not found')}\")\n",
    "MLB_team['New York'] = 'Yankees'\n",
    "print(f\"Updated MLB Teams: {MLB_team}\")\n",
    "del MLB_team['Milwaukee']\n",
    "print(f\"Updated MLB Teams (after removal): {MLB_team}\")"
   ]
  },
  {
   "cell_type": "code",
   "execution_count": 25,
   "id": "76f0d0d2-6329-46b4-80ee-df52ba2133a1",
   "metadata": {},
   "outputs": [
    {
     "name": "stdout",
     "output_type": "stream",
     "text": [
      "Original string: Computer Science\n",
      "First letter: C\n",
      "Length of the string: 16\n",
      "Substring: Science\n",
      "Combined string: Computer Engineering\n"
     ]
    }
   ],
   "source": [
    "#String manipulation\n",
    "word = \"Computer Science\"\n",
    "print(f\"Original string: {word}\")\n",
    "print(f\"First letter: {word[0]}\")\n",
    "print(f\"Length of the string: {len(word)}\")\n",
    "print(f\"Substring: {word[9:16]}\")\n",
    "str1 = \"Computer\"\n",
    "str2 = \"Engineering\"\n",
    "combined = str1 + \" \" + str2\n",
    "print(f\"Combined string: {combined}\")"
   ]
  },
  {
   "cell_type": "code",
   "execution_count": 26,
   "id": "4e4f86ab-0d64-4a35-a761-e6e8ca1b94d4",
   "metadata": {},
   "outputs": [
    {
     "name": "stdout",
     "output_type": "stream",
     "text": [
      "x is greater than 5\n"
     ]
    }
   ],
   "source": [
    "#if statement\n",
    "x = 10\n",
    "if x > 5:\n",
    "    print(\"x is greater than 5\")\n"
   ]
  },
  {
   "cell_type": "code",
   "execution_count": 27,
   "id": "cef19c98-9804-48ba-866f-262f90912735",
   "metadata": {},
   "outputs": [
    {
     "name": "stdout",
     "output_type": "stream",
     "text": [
      "No\n"
     ]
    }
   ],
   "source": [
    "#if else statement\n",
    "x = 3\n",
    "if x == 4:\n",
    "    print(\"Yes\")\n",
    "else:\n",
    "    print(\"No\")\n"
   ]
  },
  {
   "cell_type": "code",
   "execution_count": 28,
   "id": "3f707ffa-0dac-4209-ae16-ac6a33b6d256",
   "metadata": {},
   "outputs": [
    {
     "name": "stdout",
     "output_type": "stream",
     "text": [
      "Letter is A\n"
     ]
    }
   ],
   "source": [
    "#nested if else statement\n",
    "letter = \"A\"\n",
    "if letter == \"B\":\n",
    "    print(\"Letter is B\")\n",
    "else:\n",
    "    if letter == \"C\":\n",
    "        print(\"Letter is C\")\n",
    "    else:\n",
    "        print(\"Letter is A\")\n"
   ]
  },
  {
   "cell_type": "code",
   "execution_count": 29,
   "id": "2258c7d9-34bb-4564-ab4a-78172ddf5c5d",
   "metadata": {},
   "outputs": [
    {
     "name": "stdout",
     "output_type": "stream",
     "text": [
      "Letter is A\n"
     ]
    }
   ],
   "source": [
    "#if elif else statement\n",
    "letter = \"A\"\n",
    "if letter == \"B\":\n",
    "    print(\"Letter is B\")\n",
    "elif letter == \"C\":\n",
    "    print(\"Letter is C\")\n",
    "elif letter == \"A\":\n",
    "    print(\"Letter is A\")\n",
    "else:\n",
    "    print(\"Letter isn't A, B, or C\")\n"
   ]
  },
  {
   "cell_type": "code",
   "execution_count": 30,
   "id": "11a44810-995f-45c0-97a9-b60417c3aadd",
   "metadata": {},
   "outputs": [
    {
     "name": "stdout",
     "output_type": "stream",
     "text": [
      "No\n"
     ]
    }
   ],
   "source": [
    "#ternary\n",
    "result = \"Yes\" if x == 4 else \"No\"\n",
    "print(result)\n"
   ]
  },
  {
   "cell_type": "code",
   "execution_count": null,
   "id": "d77f2f5e-0b51-4ee0-8568-2d7630dab9eb",
   "metadata": {},
   "outputs": [],
   "source": []
  }
 ],
 "metadata": {
  "kernelspec": {
   "display_name": "Python 3 (ipykernel)",
   "language": "python",
   "name": "python3"
  },
  "language_info": {
   "codemirror_mode": {
    "name": "ipython",
    "version": 3
   },
   "file_extension": ".py",
   "mimetype": "text/x-python",
   "name": "python",
   "nbconvert_exporter": "python",
   "pygments_lexer": "ipython3",
   "version": "3.12.4"
  }
 },
 "nbformat": 4,
 "nbformat_minor": 5
}
